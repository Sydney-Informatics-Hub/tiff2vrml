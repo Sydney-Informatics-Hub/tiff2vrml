{
 "cells": [
  {
   "cell_type": "code",
   "execution_count": null,
   "metadata": {},
   "outputs": [],
   "source": [
    "%pip install tifffile"
   ]
  },
  {
   "cell_type": "code",
   "execution_count": null,
   "id": "b8332b6c-a1f1-4d55-b193-eadb25a45eb7",
   "metadata": {},
   "outputs": [],
   "source": [
    "# Read the tiff files, assume have sorteable filenames 001.tif, 002.tif etc.\n",
    "tiff_dir = \"data/\"\n",
    "tiff_files = [f for f in os.listdir(tiff_dir) if f.endswith(\".tif\")]\n",
    "tiff_files.sort()\n",
    "\n",
    "# Load the first TIFF file to get its dimensions\n",
    "first_tiff = tiff.imread(os.path.join(tiff_dir, tiff_files[0]))\n",
    "height, width = first_tiff.shape\n",
    "num_slices = len(tiff_files)\n",
    "\n",
    "# Create a numpy array to store the volume\n",
    "volume = np.zeros((height, width, num_slices), dtype=np.uint8)\n",
    "\n",
    "# Iterate through TIFF files and populate a volume\n",
    "for i, tiff_file in enumerate(tiff_files):\n",
    "  print(tiff_file)\n",
    "  tiff_data = tiff.imread(os.path.join(tiff_dir, tiff_file))\n",
    "  volume[:, :, i] = tiff_data"
   ]
  },
  {
   "cell_type": "code",
   "execution_count": null,
   "id": "5b0f524c-ca3d-4cff-9988-34d463fe258f",
   "metadata": {},
   "outputs": [],
   "source": [
    "for i in range(volume.shape[2]):\n",
    "    slice_2d = volume[:, :, i]\n",
    "    plt.imshow(slice_2d, cmap='viridis')\n",
    "    plt.title(f\"Slice {i}\")\n",
    "    plt.colorbar()\n",
    "    plt.show()"
   ]
  },
  {
   "cell_type": "code",
   "execution_count": null,
   "id": "77eb36ef-812d-49c8-99e0-b2eefcc19f74",
   "metadata": {},
   "outputs": [],
   "source": [
    "!pip install scikit-image"
   ]
  },
  {
   "cell_type": "code",
   "execution_count": 12,
   "metadata": {},
   "outputs": [
    {
     "ename": "ModuleNotFoundError",
     "evalue": "No module named 'pyvista'",
     "output_type": "error",
     "traceback": [
      "\u001b[0;31m---------------------------------------------------------------------------\u001b[0m",
      "\u001b[0;31mModuleNotFoundError\u001b[0m                       Traceback (most recent call last)",
      "\u001b[1;32m/workspaces/tiff2vrml/tiff_reader.ipynb Cell 5\u001b[0m line \u001b[0;36m1\n\u001b[0;32m----> <a href='vscode-notebook-cell://codespaces%2Bbug-free-eureka-97pwqjj7w9vcpvg9/workspaces/tiff2vrml/tiff_reader.ipynb#X26sdnNjb2RlLXJlbW90ZQ%3D%3D?line=0'>1</a>\u001b[0m \u001b[39mimport\u001b[39;00m \u001b[39mtiff2mesh\u001b[39;00m\n",
      "File \u001b[0;32m/workspaces/tiff2vrml/tiff2mesh.py:4\u001b[0m\n\u001b[1;32m      1\u001b[0m \u001b[39m# sconverting array to point cloud and saving as mesh\u001b[39;00m\n\u001b[1;32m      3\u001b[0m \u001b[39mimport\u001b[39;00m \u001b[39mnumpy\u001b[39;00m \u001b[39mas\u001b[39;00m \u001b[39mnp\u001b[39;00m\n\u001b[0;32m----> 4\u001b[0m \u001b[39mimport\u001b[39;00m \u001b[39mpyvista\u001b[39;00m \u001b[39mas\u001b[39;00m \u001b[39mpv\u001b[39;00m\n\u001b[1;32m      5\u001b[0m \u001b[39mimport\u001b[39;00m \u001b[39mmeshio\u001b[39;00m\n\u001b[1;32m      6\u001b[0m \u001b[39mimport\u001b[39;00m \u001b[39margparse\u001b[39;00m\n",
      "\u001b[0;31mModuleNotFoundError\u001b[0m: No module named 'pyvista'"
     ]
    }
   ],
   "source": [
    "import tiff2mesh"
   ]
  },
  {
   "cell_type": "code",
   "execution_count": null,
   "metadata": {},
   "outputs": [],
   "source": [
    "!pip install pyvista"
   ]
  },
  {
   "cell_type": "code",
   "execution_count": null,
   "metadata": {},
   "outputs": [],
   "source": [
    "!pip install tifffile"
   ]
  },
  {
   "cell_type": "code",
   "execution_count": null,
   "id": "0d610ac4-5ab9-494a-99b0-1bbacc324309",
   "metadata": {},
   "outputs": [],
   "source": [
    "import numpy as np\n",
    "import tifffile as tiff\n",
    "import os\n",
    "import scipy\n",
    "import matplotlib.pyplot as plt\n",
    "# Hi!"
   ]
  },
  {
   "cell_type": "code",
   "execution_count": null,
   "metadata": {},
   "outputs": [],
   "source": []
  }
 ],
 "metadata": {
  "kernelspec": {
   "display_name": "Python 3 (ipykernel)",
   "language": "python",
   "name": "python3"
  },
  "language_info": {
   "codemirror_mode": {
    "name": "ipython",
    "version": 3
   },
   "file_extension": ".py",
   "mimetype": "text/x-python",
   "name": "python",
   "nbconvert_exporter": "python",
   "pygments_lexer": "ipython3",
   "version": "3.10.8"
  }
 },
 "nbformat": 4,
 "nbformat_minor": 5
}
