{
 "cells": [
  {
   "cell_type": "code",
   "execution_count": null,
   "metadata": {},
   "outputs": [],
   "source": [
    "import tiff2mesh"
   ]
  },
  {
   "cell_type": "code",
   "execution_count": 21,
   "metadata": {},
   "outputs": [
    {
     "ename": "ValueError",
     "evalue": "Dimension of ``points`` should be 1 or 2, not 3",
     "output_type": "error",
     "traceback": [
      "\u001b[0;31m---------------------------------------------------------------------------\u001b[0m",
      "\u001b[0;31mValueError\u001b[0m                                Traceback (most recent call last)",
      "\u001b[1;32m/workspaces/tiff2vrml/tiff_reader.ipynb Cell 2\u001b[0m line \u001b[0;36m1\n\u001b[0;32m----> <a href='vscode-notebook-cell://codespaces%2Bbug-free-eureka-97pwqjj7w9vcpvg9/workspaces/tiff2vrml/tiff_reader.ipynb#X32sdnNjb2RlLXJlbW90ZQ%3D%3D?line=0'>1</a>\u001b[0m mesh \u001b[39m=\u001b[39m tiff2mesh\u001b[39m.\u001b[39;49mpoint_cloud_to_mesh(volume[:,:,]\u001b[39m.\u001b[39;49mastype(np\u001b[39m.\u001b[39;49mfloat32))\n",
      "File \u001b[0;32m/workspaces/tiff2vrml/tiff2mesh.py:25\u001b[0m, in \u001b[0;36mpoint_cloud_to_mesh\u001b[0;34m(points)\u001b[0m\n\u001b[1;32m     18\u001b[0m \u001b[39mdef\u001b[39;00m \u001b[39mpoint_cloud_to_mesh\u001b[39m(points):\n\u001b[1;32m     19\u001b[0m \u001b[39m    \u001b[39m\u001b[39m\"\"\"\u001b[39;00m\n\u001b[1;32m     20\u001b[0m \u001b[39m    Convert a point cloud to a mesh using Delaunay 3D triangulation.\u001b[39;00m\n\u001b[1;32m     21\u001b[0m \n\u001b[1;32m     22\u001b[0m \u001b[39m    :param points: A numpy array of points.\u001b[39;00m\n\u001b[1;32m     23\u001b[0m \u001b[39m    :return: A PyVista mesh object.\u001b[39;00m\n\u001b[1;32m     24\u001b[0m \u001b[39m    \"\"\"\u001b[39;00m\n\u001b[0;32m---> 25\u001b[0m     cloud \u001b[39m=\u001b[39m pv\u001b[39m.\u001b[39;49mPolyData(points)\n\u001b[1;32m     26\u001b[0m     volume \u001b[39m=\u001b[39m cloud\u001b[39m.\u001b[39mdelaunay_3d(alpha\u001b[39m=\u001b[39m\u001b[39m1.0\u001b[39m)\n\u001b[1;32m     27\u001b[0m     surface \u001b[39m=\u001b[39m volume\u001b[39m.\u001b[39mextract_surface()  \u001b[39m# Extract the surface from the UnstructuredGrid\u001b[39;00m\n",
      "File \u001b[0;32m~/.python/current/lib/python3.10/site-packages/pyvista/core/pointset.py:637\u001b[0m, in \u001b[0;36mPolyData.__init__\u001b[0;34m(self, var_inp, faces, n_faces, lines, n_lines, strips, n_strips, deep, force_ext, force_float)\u001b[0m\n\u001b[1;32m    635\u001b[0m \u001b[39m# First parameter is points\u001b[39;00m\n\u001b[1;32m    636\u001b[0m \u001b[39mif\u001b[39;00m \u001b[39misinstance\u001b[39m(var_inp, (np\u001b[39m.\u001b[39mndarray, \u001b[39mlist\u001b[39m, _vtk\u001b[39m.\u001b[39mvtkDataArray)):\n\u001b[0;32m--> 637\u001b[0m     \u001b[39mself\u001b[39m\u001b[39m.\u001b[39mSetPoints(vtk_points(var_inp, deep\u001b[39m=\u001b[39;49mdeep, force_float\u001b[39m=\u001b[39;49mforce_float))\n\u001b[1;32m    639\u001b[0m \u001b[39melse\u001b[39;00m:\n\u001b[1;32m    640\u001b[0m     msg \u001b[39m=\u001b[39m \u001b[39mf\u001b[39m\u001b[39m\"\"\"\u001b[39m\n\u001b[1;32m    641\u001b[0m \u001b[39m        Invalid Input type:\u001b[39m\n\u001b[1;32m    642\u001b[0m \n\u001b[0;32m   (...)\u001b[0m\n\u001b[1;32m    649\u001b[0m \n\u001b[1;32m    650\u001b[0m \u001b[39m        Instead got: \u001b[39m\u001b[39m{\u001b[39;00m\u001b[39mtype\u001b[39m(var_inp)\u001b[39m}\u001b[39;00m\u001b[39m\"\"\"\u001b[39m\n",
      "File \u001b[0;32m~/.python/current/lib/python3.10/site-packages/pyvista/core/utilities/points.py:64\u001b[0m, in \u001b[0;36mvtk_points\u001b[0;34m(points, deep, force_float)\u001b[0m\n\u001b[1;32m     62\u001b[0m     points \u001b[39m=\u001b[39m points\u001b[39m.\u001b[39mreshape(\u001b[39m-\u001b[39m\u001b[39m1\u001b[39m, \u001b[39m3\u001b[39m)\n\u001b[1;32m     63\u001b[0m \u001b[39melif\u001b[39;00m points\u001b[39m.\u001b[39mndim \u001b[39m>\u001b[39m \u001b[39m2\u001b[39m:\n\u001b[0;32m---> 64\u001b[0m     \u001b[39mraise\u001b[39;00m \u001b[39mValueError\u001b[39;00m(\u001b[39mf\u001b[39m\u001b[39m'\u001b[39m\u001b[39mDimension of ``points`` should be 1 or 2, not \u001b[39m\u001b[39m{\u001b[39;00mpoints\u001b[39m.\u001b[39mndim\u001b[39m}\u001b[39;00m\u001b[39m'\u001b[39m)\n\u001b[1;32m     66\u001b[0m \u001b[39m# verify shape\u001b[39;00m\n\u001b[1;32m     67\u001b[0m \u001b[39mif\u001b[39;00m points\u001b[39m.\u001b[39mshape[\u001b[39m1\u001b[39m] \u001b[39m!=\u001b[39m \u001b[39m3\u001b[39m:\n",
      "\u001b[0;31mValueError\u001b[0m: Dimension of ``points`` should be 1 or 2, not 3"
     ]
    }
   ],
   "source": [
    "mesh = tiff2mesh.point_cloud_to_mesh(volume[:,:,1].astype(np.float32))"
   ]
  },
  {
   "cell_type": "code",
   "execution_count": null,
   "id": "b8332b6c-a1f1-4d55-b193-eadb25a45eb7",
   "metadata": {},
   "outputs": [],
   "source": [
    "# Read the tiff files, assume have sorteable filenames 001.tif, 002.tif etc.\n",
    "tiff_dir = \"data/\"\n",
    "tiff_files = [f for f in os.listdir(tiff_dir) if f.endswith(\".tif\")]\n",
    "tiff_files.sort()\n",
    "\n",
    "# Load the first TIFF file to get its dimensions\n",
    "first_tiff = tiff.imread(os.path.join(tiff_dir, tiff_files[0]))\n",
    "height, width = first_tiff.shape\n",
    "num_slices = len(tiff_files)\n",
    "\n",
    "# Create a numpy array to store the volume\n",
    "volume = np.zeros((height, width, num_slices), dtype=np.uint8)\n",
    "\n",
    "# Iterate through TIFF files and populate a volume\n",
    "for i, tiff_file in enumerate(tiff_files):\n",
    "  print(tiff_file)\n",
    "  tiff_data = tiff.imread(os.path.join(tiff_dir, tiff_file))\n",
    "  volume[:, :, i] = tiff_data"
   ]
  },
  {
   "cell_type": "code",
   "execution_count": null,
   "id": "5b0f524c-ca3d-4cff-9988-34d463fe258f",
   "metadata": {},
   "outputs": [],
   "source": [
    "for i in range(volume.shape[2]):\n",
    "    slice_2d = volume[:, :, i]\n",
    "    plt.imshow(slice_2d, cmap='viridis')\n",
    "    plt.title(f\"Slice {i}\")\n",
    "    plt.colorbar()\n",
    "    plt.show()"
   ]
  },
  {
   "cell_type": "code",
   "execution_count": null,
   "id": "77eb36ef-812d-49c8-99e0-b2eefcc19f74",
   "metadata": {},
   "outputs": [],
   "source": [
    "!pip install scikit-image"
   ]
  },
  {
   "cell_type": "code",
   "execution_count": null,
   "metadata": {},
   "outputs": [],
   "source": [
    "!pip install tifffile"
   ]
  },
  {
   "cell_type": "code",
   "execution_count": null,
   "id": "0d610ac4-5ab9-494a-99b0-1bbacc324309",
   "metadata": {},
   "outputs": [],
   "source": [
    "import numpy as np\n",
    "import tifffile as tiff\n",
    "import os\n",
    "import scipy\n",
    "import matplotlib.pyplot as plt\n",
    "# Hi!"
   ]
  },
  {
   "cell_type": "code",
   "execution_count": null,
   "metadata": {},
   "outputs": [],
   "source": []
  }
 ],
 "metadata": {
  "kernelspec": {
   "display_name": "Python 3 (ipykernel)",
   "language": "python",
   "name": "python3"
  },
  "language_info": {
   "codemirror_mode": {
    "name": "ipython",
    "version": 3
   },
   "file_extension": ".py",
   "mimetype": "text/x-python",
   "name": "python",
   "nbconvert_exporter": "python",
   "pygments_lexer": "ipython3",
   "version": "3.10.8"
  }
 },
 "nbformat": 4,
 "nbformat_minor": 5
}
