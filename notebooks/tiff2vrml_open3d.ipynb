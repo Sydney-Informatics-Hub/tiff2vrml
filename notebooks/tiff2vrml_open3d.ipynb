{
 "cells": [
  {
   "cell_type": "code",
   "execution_count": 1,
   "id": "d10f4abe-2e5a-4644-a216-46b55e815e23",
   "metadata": {},
   "outputs": [
    {
     "name": "stdout",
     "output_type": "stream",
     "text": [
      "0.tif\n",
      "1.tif\n",
      "2.tif\n",
      "3.tif\n",
      "4.tif\n"
     ]
    }
   ],
   "source": [
    "import numpy as np\n",
    "import tifffile as tiff\n",
    "import os\n",
    "import matplotlib.pyplot as plt\n",
    "\n",
    "# Read the tiff files, assume have sorteable filenames 001.tif, 002.tif etc.\n",
    "tiff_dir = \"../data/\"\n",
    "tiff_files = [f for f in os.listdir(tiff_dir) if f.endswith(\".tif\")]\n",
    "tiff_files.sort()\n",
    "\n",
    "# Load the first TIFF file to get its dimensions\n",
    "first_tiff = tiff.imread(os.path.join(tiff_dir, tiff_files[0]))\n",
    "height, width = first_tiff.shape\n",
    "num_slices = len(tiff_files)\n",
    "\n",
    "# Create a numpy array to store the volume\n",
    "volume = np.zeros((height, width, num_slices), dtype=np.uint8)\n",
    "\n",
    "# Iterate through TIFF files and populate a volume\n",
    "for i, tiff_file in enumerate(tiff_files):\n",
    "  print(tiff_file)\n",
    "  tiff_data = tiff.imread(os.path.join(tiff_dir, tiff_file))\n",
    "  volume[:, :, i] = tiff_data"
   ]
  },
  {
   "cell_type": "code",
   "execution_count": 4,
   "id": "687734a0-514b-452f-b0f3-831123c76a7f",
   "metadata": {},
   "outputs": [
    {
     "name": "stdout",
     "output_type": "stream",
     "text": [
      "Jupyter environment detected. Enabling Open3D WebVisualizer.\n",
      "[Open3D INFO] WebRTC GUI backend enabled.\n",
      "[Open3D INFO] WebRTCWindowSystem: HTTP handshake server disabled.\n"
     ]
    }
   ],
   "source": [
    "import open3d as o3d"
   ]
  },
  {
   "cell_type": "code",
   "execution_count": 5,
   "id": "e0fbb52e-0d3d-4303-9225-a4415fbc99ea",
   "metadata": {},
   "outputs": [],
   "source": [
    "# Point cloud to mesh with open3d\n",
    "\n",
    "# Get the indices of numpy array (which are triangle vertices?)\n",
    "verticies = np.argwhere(volume > 0)\n",
    "pcd = o3d.geometry.PointCloud()\n",
    "pcd.points = o3d.utility.Vector3dVector(verticies)"
   ]
  },
  {
   "cell_type": "code",
   "execution_count": 6,
   "id": "5b087cd5-97d8-4163-a76c-3f7fa81d7367",
   "metadata": {},
   "outputs": [
    {
     "name": "stdout",
     "output_type": "stream",
     "text": [
      "Precompute neighbors.[========================================] 100%\n",
      "Clustering[======================================> ] 95%          ] 60%\r"
     ]
    }
   ],
   "source": [
    "# Perform DBSCAN clustering\n",
    "with o3d.utility.VerbosityContextManager(o3d.utility.VerbosityLevel.Info):\n",
    "    labels = np.array(pcd.cluster_dbscan(eps=10, min_points=1000, print_progress=True))"
   ]
  },
  {
   "cell_type": "code",
   "execution_count": null,
   "id": "2e888ac4-5be9-49ef-8626-7f3fde94504a",
   "metadata": {},
   "outputs": [],
   "source": []
  },
  {
   "cell_type": "code",
   "execution_count": null,
   "id": "ec8b8a9b-cf96-4569-9742-6dec0141615e",
   "metadata": {},
   "outputs": [],
   "source": []
  },
  {
   "cell_type": "code",
   "execution_count": null,
   "id": "7c7eafc9-c70e-46bd-bcd7-dcc331150112",
   "metadata": {},
   "outputs": [],
   "source": []
  }
 ],
 "metadata": {
  "kernelspec": {
   "display_name": "Python 3 (ipykernel)",
   "language": "python",
   "name": "python3"
  },
  "language_info": {
   "codemirror_mode": {
    "name": "ipython",
    "version": 3
   },
   "file_extension": ".py",
   "mimetype": "text/x-python",
   "name": "python",
   "nbconvert_exporter": "python",
   "pygments_lexer": "ipython3",
   "version": "3.10.13"
  }
 },
 "nbformat": 4,
 "nbformat_minor": 5
}
